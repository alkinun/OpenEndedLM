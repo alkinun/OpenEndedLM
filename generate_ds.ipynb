{
 "cells": [
  {
   "cell_type": "code",
   "execution_count": 1,
   "metadata": {},
   "outputs": [],
   "source": [
    "import ollama\n",
    "\n",
    "def llm_generate(prompt, model=\"qwen2.5:14b\", options={}):\n",
    "    response = ollama.generate(model=model, prompt=prompt, raw=True, options=options)\n",
    "    return response[\"response\"]\n",
    "\n",
    "def llm(messages, model=\"qwen2.5:14b\"):\n",
    "    response = ollama.chat(model=model, messages=messages)\n",
    "    return response[\"message\"][\"content\"]"
   ]
  },
  {
   "cell_type": "code",
   "execution_count": 2,
   "metadata": {},
   "outputs": [],
   "source": [
    "PROMPT_QUESTION_GENERATION = \"\"\"<|im_start|>system\n",
    "You are a helpful assistant. The user ends its message with \"<|im_end|>\" suffix.<|im_end|>\n",
    "<|im_start|>user\n",
    "\"\"\"\n",
    "\n",
    "def generate_prompt(model=\"qwen2.5:14b\"):\n",
    "    return llm_generate(PROMPT_QUESTION_GENERATION, model=model, options={\"stop\": [\"<|im_end|>\", \"<|im_start|>\"], \"temperature\": 1})"
   ]
  },
  {
   "cell_type": "code",
   "execution_count": 3,
   "metadata": {},
   "outputs": [
    {
     "data": {
      "application/vnd.jupyter.widget-view+json": {
       "model_id": "cdc256c5aa944c64a56bb52014193c02",
       "version_major": 2,
       "version_minor": 0
      },
      "text/plain": [
       "  0%|          | 0/100 [00:00<?, ?it/s]"
      ]
     },
     "metadata": {},
     "output_type": "display_data"
    }
   ],
   "source": [
    "from tqdm.auto import tqdm\n",
    "\n",
    "ds = []\n",
    "\n",
    "for i in tqdm(range(100)):\n",
    "    prompt = generate_prompt()\n",
    "    responses = []\n",
    "    for j in range(3):\n",
    "        response = llm([{\"role\": \"user\", \"content\": prompt}])\n",
    "        responses.append(response)\n",
    "    ds.append({\"prompt\": prompt, \"responses\": responses})"
   ]
  },
  {
   "cell_type": "code",
   "execution_count": 8,
   "metadata": {},
   "outputs": [
    {
     "name": "stdout",
     "output_type": "stream",
     "text": [
      "[-0.244140625, -1.40625, -7.8125]\n"
     ]
    }
   ],
   "source": [
    "from reward import reward\n",
    "rewards = reward(ds[0][\"prompt\"], ds[0][\"responses\"])\n",
    "print(rewards)"
   ]
  },
  {
   "cell_type": "code",
   "execution_count": 12,
   "metadata": {},
   "outputs": [
    {
     "data": {
      "application/vnd.jupyter.widget-view+json": {
       "model_id": "af94c61f8a5b4b3d9ddca7199aaa84fb",
       "version_major": 2,
       "version_minor": 0
      },
      "text/plain": [
       "  0%|          | 0/100 [00:00<?, ?it/s]"
      ]
     },
     "metadata": {},
     "output_type": "display_data"
    }
   ],
   "source": [
    "ds_with_rewards = []\n",
    "\n",
    "for example in tqdm(ds):\n",
    "    new_example = {\n",
    "        \"prompt\": example[\"prompt\"],\n",
    "        \"responses\": example[\"responses\"],\n",
    "        \"rewards\": reward(example[\"prompt\"], example[\"responses\"]),\n",
    "    }\n",
    "    ds_with_rewards.append(new_example)\n",
    "\n",
    "ds = ds_with_rewards"
   ]
  },
  {
   "cell_type": "code",
   "execution_count": 14,
   "metadata": {},
   "outputs": [
    {
     "name": "stdout",
     "output_type": "stream",
     "text": [
      "What is the significance of the 13 stripes on the American flag?\n",
      "##########################################################################\n",
      "The 13 stripes on the American flag represent the original 13 colonies that declared their independence from Great Britain and became the first states in the United States. These colonies were:\n",
      "\n",
      "1. Delaware\n",
      "2. Pennsylvania\n",
      "3. New Jersey\n",
      "4. Georgia\n",
      "5. Connecticut\n",
      "6. Massachusetts\n",
      "7. Maryland\n",
      "8. South Carolina\n",
      "9. New Hampshire\n",
      "10. Virginia\n",
      "11. New York\n",
      "12. North Carolina\n",
      "13. Rhode Island\n",
      "\n",
      "The red and white stripes symbolize the struggle and unity of these colonies against British rule, with each stripe representing one of the original states. The alternating pattern of red and white is a traditional design for flags, but in this context, it also serves as a visual reminder of the historical union and the principles upon which the United States was founded.\n",
      "\n",
      "The flag's design has evolved over time to reflect changes within the country, such as the addition of stars (one for each state) and new stripes when new states join, though since 1795 no additional stripes have been added due to the decision to maintain the original 13.\n",
      "--- reward:  -0.244140625\n",
      "--------------------------------------------------------------------------\n",
      "The 13 stripes on the American flag represent the original 13 colonies that declared independence from British rule and became the first states in the United States of America. These colonies were:\n",
      "\n",
      "1. Delaware\n",
      "2. Pennsylvania\n",
      "3. New Jersey\n",
      "4. Georgia\n",
      "5. Connecticut\n",
      "6. Massachusetts\n",
      "7. Maryland\n",
      "8. South Carolina\n",
      "9. New Hampshire\n",
      "10. Virginia\n",
      "11. New York\n",
      "12. North Carolina\n",
      "13. Rhode Island\n",
      "\n",
      "Each of these stripes symbolizes one of the original colonies, reflecting their pivotal role in American history and their contribution to the formation of the United States as a sovereign nation. The alternating pattern of red and white stripes is a traditional design element that has been part of the flag since its adoption.\n",
      "--- reward:  -1.40625\n",
      "--------------------------------------------------------------------------\n",
      "The 13 stripes on the American flag represent the original 13 colonies that declared their independence from Great Britain and became the first states in the United States of America. These stripes are alternating red and white, with seven red stripes and six white stripes.\n",
      "\n",
      "The original 13 colonies were:\n",
      "\n",
      "1. Delaware\n",
      "2. Pennsylvania\n",
      "3. New Jersey\n",
      "4. Georgia\n",
      "5. Connecticut\n",
      "6. Massachusetts\n",
      "7. Maryland\n",
      "8. South Carolina\n",
      "9. New Hampshire\n",
      "10. Virginia\n",
      "11. New York\n",
      "12. North Carolina\n",
      "13. Rhode Island\n",
      "\n",
      "These colonies later became the first 13 states of the new nation after the American Revolutionary War ended in 1783. The stripes serve as a visual reminder of the foundation and historical roots of the United States, symbolizing unity and the shared struggle for independence among these early states.\n",
      "--- reward:  -7.8125\n",
      "--------------------------------------------------------------------------\n"
     ]
    }
   ],
   "source": [
    "print(ds[0][\"prompt\"])\n",
    "print(\"##########################################################################\")\n",
    "print(ds[0][\"responses\"][0])\n",
    "print(\"--- reward: \", ds[0][\"rewards\"][0])\n",
    "print(\"--------------------------------------------------------------------------\")\n",
    "print(ds[0][\"responses\"][1])\n",
    "print(\"--- reward: \", ds[0][\"rewards\"][1])\n",
    "print(\"--------------------------------------------------------------------------\")\n",
    "print(ds[0][\"responses\"][2])\n",
    "print(\"--- reward: \", ds[0][\"rewards\"][2])\n",
    "print(\"--------------------------------------------------------------------------\")"
   ]
  },
  {
   "cell_type": "code",
   "execution_count": 33,
   "metadata": {},
   "outputs": [],
   "source": [
    "preference_ds = []\n",
    "\n",
    "for example in ds:\n",
    "    chosen = example[\"responses\"][example[\"rewards\"].index(max(example[\"rewards\"]))]\n",
    "    rejected = example[\"responses\"][example[\"rewards\"].index(min(example[\"rewards\"]))]\n",
    "\n",
    "    preference_ds.append({\n",
    "            \"prompt\": example[\"prompt\"],\n",
    "            \"chosen\": chosen,\n",
    "            \"rejected\": rejected,\n",
    "            \"chosen_score\": example[\"rewards\"][example[\"rewards\"].index(max(example[\"rewards\"]))],\n",
    "            \"rejected_score\": example[\"rewards\"][example[\"rewards\"].index(min(example[\"rewards\"]))],\n",
    "    })"
   ]
  },
  {
   "cell_type": "code",
   "execution_count": 37,
   "metadata": {},
   "outputs": [
    {
     "data": {
      "text/plain": [
       "Dataset({\n",
       "    features: ['prompt', 'chosen', 'rejected', 'chosen_score', 'rejected_score'],\n",
       "    num_rows: 100\n",
       "})"
      ]
     },
     "execution_count": 37,
     "metadata": {},
     "output_type": "execute_result"
    }
   ],
   "source": [
    "from datasets import Dataset\n",
    "\n",
    "ds = Dataset.from_list(preference_ds)\n",
    "ds"
   ]
  },
  {
   "cell_type": "code",
   "execution_count": 38,
   "metadata": {},
   "outputs": [
    {
     "data": {
      "application/vnd.jupyter.widget-view+json": {
       "model_id": "863050f65bf0436a98124c9d5ac6a90f",
       "version_major": 2,
       "version_minor": 0
      },
      "text/plain": [
       "VBox(children=(HTML(value='<center> <img\\nsrc=https://huggingface.co/front/assets/huggingface_logo-noborder.sv…"
      ]
     },
     "metadata": {},
     "output_type": "display_data"
    }
   ],
   "source": [
    "from huggingface_hub import notebook_login\n",
    "notebook_login()"
   ]
  },
  {
   "cell_type": "code",
   "execution_count": 39,
   "metadata": {},
   "outputs": [
    {
     "data": {
      "application/vnd.jupyter.widget-view+json": {
       "model_id": "706f8bb3c3874097b3ba19d19970db74",
       "version_major": 2,
       "version_minor": 0
      },
      "text/plain": [
       "Uploading the dataset shards:   0%|          | 0/1 [00:00<?, ?it/s]"
      ]
     },
     "metadata": {},
     "output_type": "display_data"
    },
    {
     "data": {
      "application/vnd.jupyter.widget-view+json": {
       "model_id": "c5ee3cb6d0a44c0797847cf16cf87f64",
       "version_major": 2,
       "version_minor": 0
      },
      "text/plain": [
       "Creating parquet from Arrow format:   0%|          | 0/1 [00:00<?, ?ba/s]"
      ]
     },
     "metadata": {},
     "output_type": "display_data"
    },
    {
     "data": {
      "text/plain": [
       "CommitInfo(commit_url='https://huggingface.co/datasets/OpenEndedLM/OpenEndReward-v0.1/commit/6b79537761c36b4650ede1a4b14be3466a56ce58', commit_message='Upload dataset', commit_description='', oid='6b79537761c36b4650ede1a4b14be3466a56ce58', pr_url=None, repo_url=RepoUrl('https://huggingface.co/datasets/OpenEndedLM/OpenEndReward-v0.1', endpoint='https://huggingface.co', repo_type='dataset', repo_id='OpenEndedLM/OpenEndReward-v0.1'), pr_revision=None, pr_num=None)"
      ]
     },
     "execution_count": 39,
     "metadata": {},
     "output_type": "execute_result"
    }
   ],
   "source": [
    "ds.push_to_hub(\"OpenEndedLM/OpenEndReward-v0.1\")"
   ]
  },
  {
   "cell_type": "code",
   "execution_count": null,
   "metadata": {},
   "outputs": [],
   "source": []
  }
 ],
 "metadata": {
  "kernelspec": {
   "display_name": "Python 3",
   "language": "python",
   "name": "python3"
  },
  "language_info": {
   "codemirror_mode": {
    "name": "ipython",
    "version": 3
   },
   "file_extension": ".py",
   "mimetype": "text/x-python",
   "name": "python",
   "nbconvert_exporter": "python",
   "pygments_lexer": "ipython3",
   "version": "3.12.3"
  }
 },
 "nbformat": 4,
 "nbformat_minor": 2
}
